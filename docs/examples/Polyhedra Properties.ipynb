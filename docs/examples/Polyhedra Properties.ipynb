{
 "cells": [
  {
   "cell_type": "markdown",
   "metadata": {},
   "source": [
    "# Polyhedra properties\n",
    "\n",
    "Start with the configuration from the [Polyhedra Assignment Example](Polyhedra%20Assignment%20Example.ipynb):"
   ]
  },
  {
   "cell_type": "code",
   "execution_count": 1,
   "metadata": {},
   "outputs": [
    {
     "data": {
      "text/plain": [
       "[Coordination Polyhedron Ti\n",
       " 0 [0. 0. 0.] Ti\n",
       " ----------\n",
       " 8 [0.    0.    1.899] O\n",
       " 9 [0.    0.    5.697] O\n",
       " 16 [1.899 0.    0.   ] F\n",
       " 20 [5.697 0.    0.   ] F\n",
       " 24 [0.    1.899 0.   ] F\n",
       " 26 [0.    5.697 0.   ] F, Coordination Polyhedron Ti\n",
       " 1 [0.    0.    3.798] Ti\n",
       " ----------\n",
       " 8 [0.    0.    1.899] O\n",
       " 9 [0.    0.    5.697] O\n",
       " 17 [1.899 0.    3.798] F\n",
       " 21 [5.697 0.    3.798] F\n",
       " 25 [0.    1.899 3.798] F\n",
       " 27 [0.    5.697 3.798] F, Coordination Polyhedron Ti\n",
       " 2 [0.    3.798 0.   ] Ti\n",
       " ----------\n",
       " 10 [0.    3.798 1.899] O\n",
       " 11 [0.    3.798 5.697] O\n",
       " 18 [1.899 3.798 0.   ] F\n",
       " 22 [5.697 3.798 0.   ] F\n",
       " 24 [0.    1.899 0.   ] F\n",
       " 26 [0.    5.697 0.   ] F, Coordination Polyhedron Ti\n",
       " 3 [0.    3.798 3.798] Ti\n",
       " ----------\n",
       " 10 [0.    3.798 1.899] O\n",
       " 11 [0.    3.798 5.697] O\n",
       " 19 [1.899 3.798 3.798] F\n",
       " 23 [5.697 3.798 3.798] F\n",
       " 25 [0.    1.899 3.798] F\n",
       " 27 [0.    5.697 3.798] F, Coordination Polyhedron Ti\n",
       " 4 [3.798 0.    0.   ] Ti\n",
       " ----------\n",
       " 12 [3.798 0.    1.899] O\n",
       " 13 [3.798 0.    5.697] O\n",
       " 16 [1.899 0.    0.   ] F\n",
       " 20 [5.697 0.    0.   ] F\n",
       " 28 [3.798 1.899 0.   ] F\n",
       " 30 [3.798 5.697 0.   ] F, Coordination Polyhedron Ti\n",
       " 5 [3.798 0.    3.798] Ti\n",
       " ----------\n",
       " 12 [3.798 0.    1.899] O\n",
       " 13 [3.798 0.    5.697] O\n",
       " 17 [1.899 0.    3.798] F\n",
       " 21 [5.697 0.    3.798] F\n",
       " 29 [3.798 1.899 3.798] F\n",
       " 31 [3.798 5.697 3.798] F, Coordination Polyhedron Ti\n",
       " 6 [3.798 3.798 0.   ] Ti\n",
       " ----------\n",
       " 14 [3.798 3.798 1.899] O\n",
       " 15 [3.798 3.798 5.697] O\n",
       " 18 [1.899 3.798 0.   ] F\n",
       " 22 [5.697 3.798 0.   ] F\n",
       " 28 [3.798 1.899 0.   ] F\n",
       " 30 [3.798 5.697 0.   ] F, Coordination Polyhedron Ti\n",
       " 7 [3.798 3.798 3.798] Ti\n",
       " ----------\n",
       " 14 [3.798 3.798 1.899] O\n",
       " 15 [3.798 3.798 5.697] O\n",
       " 19 [1.899 3.798 3.798] F\n",
       " 23 [5.697 3.798 3.798] F\n",
       " 29 [3.798 1.899 3.798] F\n",
       " 31 [3.798 5.697 3.798] F]"
      ]
     },
     "execution_count": 1,
     "metadata": {},
     "output_type": "execute_result"
    }
   ],
   "source": [
    "from pymatgen.io.vasp import Poscar\n",
    "from polyhedral_analysis.configuration import Configuration\n",
    "from polyhedral_analysis.polyhedra_recipe import PolyhedraRecipe\n",
    "\n",
    "recipe = PolyhedraRecipe( method='distance cutoff', \n",
    "                          coordination_cutoff=3.0, \n",
    "                          central_atoms='Ti',\n",
    "                          vertex_atoms=['O','F'] )\n",
    "\n",
    "structure = Poscar.from_file('files/config_0000.poscar').structure\n",
    "\n",
    "config = Configuration( structure=structure, recipes=[recipe] )\n",
    "\n",
    "config.polyhedra"
   ]
  },
  {
   "cell_type": "code",
   "execution_count": 3,
   "metadata": {},
   "outputs": [
    {
     "data": {
      "text/plain": [
       "Coordination Polyhedron Ti\n",
       "0 [0. 0. 0.] Ti\n",
       "----------\n",
       "8 [0.    0.    1.899] O\n",
       "9 [0.    0.    5.697] O\n",
       "16 [1.899 0.    0.   ] F\n",
       "20 [5.697 0.    0.   ] F\n",
       "24 [0.    1.899 0.   ] F\n",
       "26 [0.    5.697 0.   ] F"
      ]
     },
     "execution_count": 3,
     "metadata": {},
     "output_type": "execute_result"
    }
   ],
   "source": [
    "poly = config.polyhedra[0]\n",
    "poly"
   ]
  },
  {
   "cell_type": "code",
   "execution_count": 15,
   "metadata": {},
   "outputs": [
    {
     "data": {
      "text/plain": [
       "0 [0. 0. 0.] Ti"
      ]
     },
     "execution_count": 15,
     "metadata": {},
     "output_type": "execute_result"
    }
   ],
   "source": [
    "poly.central_atom"
   ]
  },
  {
   "cell_type": "code",
   "execution_count": 10,
   "metadata": {},
   "outputs": [
    {
     "data": {
      "text/plain": [
       "[8 [0.    0.    1.899] O,\n",
       " 9 [0.    0.    5.697] O,\n",
       " 16 [1.899 0.    0.   ] F,\n",
       " 20 [5.697 0.    0.   ] F,\n",
       " 24 [0.    1.899 0.   ] F,\n",
       " 26 [0.    5.697 0.   ] F]"
      ]
     },
     "execution_count": 10,
     "metadata": {},
     "output_type": "execute_result"
    }
   ],
   "source": [
    "poly.vertices"
   ]
  },
  {
   "cell_type": "code",
   "execution_count": 12,
   "metadata": {},
   "outputs": [
    {
     "data": {
      "text/plain": [
       "6"
      ]
     },
     "execution_count": 12,
     "metadata": {},
     "output_type": "execute_result"
    }
   ],
   "source": [
    "poly.coordination_number"
   ]
  },
  {
   "cell_type": "code",
   "execution_count": 14,
   "metadata": {},
   "outputs": [
    {
     "data": {
      "text/plain": [
       "[1.899, 1.899, 1.899, 1.899, 1.899, 1.899]"
      ]
     },
     "execution_count": 14,
     "metadata": {},
     "output_type": "execute_result"
    }
   ],
   "source": [
    "poly.coordination_distances()"
   ]
  },
  {
   "cell_type": "code",
   "execution_count": 17,
   "metadata": {},
   "outputs": [
    {
     "data": {
      "text/plain": [
       "[180.0,\n",
       " 90.0,\n",
       " 90.0,\n",
       " 90.0,\n",
       " 90.0,\n",
       " 90.0,\n",
       " 90.0,\n",
       " 90.0,\n",
       " 90.0,\n",
       " 180.0,\n",
       " 90.0,\n",
       " 90.0,\n",
       " 90.0,\n",
       " 90.0,\n",
       " 180.0]"
      ]
     },
     "execution_count": 17,
     "metadata": {},
     "output_type": "execute_result"
    }
   ],
   "source": [
    "poly.angles()"
   ]
  },
  {
   "cell_type": "code",
   "execution_count": 9,
   "metadata": {},
   "outputs": [
    {
     "data": {
      "text/plain": [
       "9.130900932000003"
      ]
     },
     "execution_count": 9,
     "metadata": {},
     "output_type": "execute_result"
    }
   ],
   "source": [
    "poly.volume"
   ]
  },
  {
   "cell_type": "code",
   "execution_count": 11,
   "metadata": {},
   "outputs": [
    {
     "data": {
      "text/plain": [
       "{8: [16, 20, 24, 26],\n",
       " 9: [16, 20, 24, 26],\n",
       " 16: [8, 9, 24, 26],\n",
       " 20: [8, 9, 24, 26],\n",
       " 24: [8, 9, 16, 20],\n",
       " 26: [8, 9, 16, 20]}"
      ]
     },
     "execution_count": 11,
     "metadata": {},
     "output_type": "execute_result"
    }
   ],
   "source": [
    "poly.edge_graph"
   ]
  },
  {
   "cell_type": "code",
   "execution_count": 18,
   "metadata": {},
   "outputs": [
    {
     "data": {
      "text/plain": [
       "{'geometry': 'Octahedron', 'symmetry_measure': 4.930380657631324e-30}"
      ]
     },
     "execution_count": 18,
     "metadata": {},
     "output_type": "execute_result"
    }
   ],
   "source": [
    "poly.best_fit_geometry"
   ]
  }
 ],
 "metadata": {
  "kernelspec": {
   "display_name": "Python 3",
   "language": "python",
   "name": "python3"
  },
  "language_info": {
   "codemirror_mode": {
    "name": "ipython",
    "version": 3
   },
   "file_extension": ".py",
   "mimetype": "text/x-python",
   "name": "python",
   "nbconvert_exporter": "python",
   "pygments_lexer": "ipython3",
   "version": "3.7.0"
  }
 },
 "nbformat": 4,
 "nbformat_minor": 2
}
