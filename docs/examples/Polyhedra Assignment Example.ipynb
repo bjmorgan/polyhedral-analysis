{
 "cells": [
  {
   "cell_type": "markdown",
   "metadata": {},
   "source": [
    "# Constructing a polyhedra configuration from a pymatgen `Structure` object.\n",
    "\n",
    "A simple example showing how to construct `Configuration` object from a pymatgen `Structure` object, using a coordination cutoff \"recipe\" to detect coordination polyhedra.\n",
    "\n",
    "Problem:\n",
    "\n",
    "TiOF<sub>2</sub> adopts the ReO<sub>3</sub> structure, with anion (O/F) disorder on the anion sub-lattice. For this example we want to find the Ti<i>X</i><sub>6</sub> octahedra in a 2&times;2&times;2 supercell."
   ]
  },
  {
   "cell_type": "code",
   "execution_count": 1,
   "metadata": {},
   "outputs": [],
   "source": [
    "from polyhedral_analysis.configuration import Configuration"
   ]
  },
  {
   "cell_type": "markdown",
   "metadata": {},
   "source": [
    "Use the pymatgen `Poscar` class to load a VASP POSCAR and convert to a `Structure` object."
   ]
  },
  {
   "cell_type": "code",
   "execution_count": 2,
   "metadata": {},
   "outputs": [
    {
     "name": "stdout",
     "output_type": "stream",
     "text": [
      "Full Formula (Ti8 O8 F16)\n",
      "Reduced Formula: TiOF2\n",
      "abc   :   7.596000   7.596000   7.596000\n",
      "angles:  90.000000  90.000000  90.000000\n",
      "Sites (32)\n",
      "  #  SP        a     b     c\n",
      "---  ----  -----  ----  ----\n",
      "  0  Ti     0     0     0\n",
      "  1  Ti     0     0     0.5\n",
      "  2  Ti     0     0.5   0\n",
      "  3  Ti     0     0.5   0.5\n",
      "  4  Ti     0.5   0     0\n",
      "  5  Ti     0.5   0     0.5\n",
      "  6  Ti     0.5   0.5   0\n",
      "  7  Ti     0.5   0.5   0.5\n",
      "  8  O      0     0     0.25\n",
      "  9  O      0     0     0.75\n",
      " 10  O      0     0.5   0.25\n",
      " 11  O      0     0.5   0.75\n",
      " 12  O      0.5   0     0.25\n",
      " 13  O      0.5   0     0.75\n",
      " 14  O      0.5   0.5   0.25\n",
      " 15  O      0.5   0.5   0.75\n",
      " 16  F      0.25  0     0\n",
      " 17  F      0.25  0     0.5\n",
      " 18  F      0.25  0.5   0\n",
      " 19  F      0.25  0.5   0.5\n",
      " 20  F      0.75  0     0\n",
      " 21  F      0.75  0     0.5\n",
      " 22  F      0.75  0.5   0\n",
      " 23  F      0.75  0.5   0.5\n",
      " 24  F      0     0.25  0\n",
      " 25  F      0     0.25  0.5\n",
      " 26  F     -0     0.75  0\n",
      " 27  F     -0     0.75  0.5\n",
      " 28  F      0.5   0.25  0\n",
      " 29  F      0.5   0.25  0.5\n",
      " 30  F      0.5   0.75  0\n",
      " 31  F      0.5   0.75  0.5\n"
     ]
    }
   ],
   "source": [
    "from pymatgen.io.vasp import Poscar\n",
    "structure = Poscar.from_file('files/config_0000.poscar').structure\n",
    "print(structure)"
   ]
  },
  {
   "cell_type": "markdown",
   "metadata": {},
   "source": [
    "We first create a `PolyhedraRecipe` object that describes how to define polyhedra in our structure. \n",
    "\n",
    "In this example we use the `method=\"distance cutoff\"` method, which assigns vertices to coordination polyhedra if these atoms are less than a cutoff distance $r$ from the central atom.\n",
    "\n",
    "We also need to define the set of central atoms, and the set of coordination atoms, and the distance cutoff for coordination.\n",
    "\n",
    "These four parameters are used to specify the following arguments for the `PolyhedraRecipe()` initialisation method:\n",
    "- `method`\n",
    "- `coordination_cutoff`\n",
    "- `central_atoms`\n",
    "- `vertex_atoms`"
   ]
  },
  {
   "cell_type": "markdown",
   "metadata": {},
   "source": [
    "There are several ways to define the sets of atoms that are used as polyhedral centres and vertices. The simplest is to set `central_atoms` and `vertex_atoms` to strings, or lists of strings, to match against `Site` species."
   ]
  },
  {
   "cell_type": "code",
   "execution_count": 19,
   "metadata": {},
   "outputs": [
    {
     "data": {
      "text/plain": [
       "<polyhedral_analysis.polyhedra_recipe.PolyhedraRecipe at 0x11826a7f0>"
      ]
     },
     "execution_count": 19,
     "metadata": {},
     "output_type": "execute_result"
    }
   ],
   "source": [
    "from polyhedral_analysis.polyhedra_recipe import PolyhedraRecipe\n",
    "recipe = PolyhedraRecipe( method='distance cutoff', \n",
    "                          coordination_cutoff=3.0, \n",
    "                          central_atoms='Ti',\n",
    "                          vertex_atoms=['O','F'])\n",
    "\n",
    "recipe"
   ]
  },
  {
   "cell_type": "markdown",
   "metadata": {},
   "source": [
    "We can now use this recipe to create a particular polyhedra configuration from our `Structure`."
   ]
  },
  {
   "cell_type": "code",
   "execution_count": 20,
   "metadata": {},
   "outputs": [],
   "source": [
    "config = Configuration( structure=structure, recipes=[recipe] )"
   ]
  },
  {
   "cell_type": "markdown",
   "metadata": {},
   "source": [
    "This `Configuration` contains the set of `CoordinationPolyhedra` that define each Ti<i>X</i><sub>6</sub> polyhedron. These can be accessed using the `polyhedra` atttribute."
   ]
  },
  {
   "cell_type": "code",
   "execution_count": 21,
   "metadata": {},
   "outputs": [
    {
     "data": {
      "text/plain": [
       "[Coordination Polyhedron Ti\n",
       " 0 [0. 0. 0.] Ti\n",
       " ----------\n",
       " 8 [0.    0.    1.899] O\n",
       " 9 [0.    0.    5.697] O\n",
       " 16 [1.899 0.    0.   ] F\n",
       " 20 [5.697 0.    0.   ] F\n",
       " 24 [0.    1.899 0.   ] F\n",
       " 26 [0.    5.697 0.   ] F, Coordination Polyhedron Ti\n",
       " 1 [0.    0.    3.798] Ti\n",
       " ----------\n",
       " 8 [0.    0.    1.899] O\n",
       " 9 [0.    0.    5.697] O\n",
       " 17 [1.899 0.    3.798] F\n",
       " 21 [5.697 0.    3.798] F\n",
       " 25 [0.    1.899 3.798] F\n",
       " 27 [0.    5.697 3.798] F, Coordination Polyhedron Ti\n",
       " 2 [0.    3.798 0.   ] Ti\n",
       " ----------\n",
       " 10 [0.    3.798 1.899] O\n",
       " 11 [0.    3.798 5.697] O\n",
       " 18 [1.899 3.798 0.   ] F\n",
       " 22 [5.697 3.798 0.   ] F\n",
       " 24 [0.    1.899 0.   ] F\n",
       " 26 [0.    5.697 0.   ] F, Coordination Polyhedron Ti\n",
       " 3 [0.    3.798 3.798] Ti\n",
       " ----------\n",
       " 10 [0.    3.798 1.899] O\n",
       " 11 [0.    3.798 5.697] O\n",
       " 19 [1.899 3.798 3.798] F\n",
       " 23 [5.697 3.798 3.798] F\n",
       " 25 [0.    1.899 3.798] F\n",
       " 27 [0.    5.697 3.798] F, Coordination Polyhedron Ti\n",
       " 4 [3.798 0.    0.   ] Ti\n",
       " ----------\n",
       " 12 [3.798 0.    1.899] O\n",
       " 13 [3.798 0.    5.697] O\n",
       " 16 [1.899 0.    0.   ] F\n",
       " 20 [5.697 0.    0.   ] F\n",
       " 28 [3.798 1.899 0.   ] F\n",
       " 30 [3.798 5.697 0.   ] F, Coordination Polyhedron Ti\n",
       " 5 [3.798 0.    3.798] Ti\n",
       " ----------\n",
       " 12 [3.798 0.    1.899] O\n",
       " 13 [3.798 0.    5.697] O\n",
       " 17 [1.899 0.    3.798] F\n",
       " 21 [5.697 0.    3.798] F\n",
       " 29 [3.798 1.899 3.798] F\n",
       " 31 [3.798 5.697 3.798] F, Coordination Polyhedron Ti\n",
       " 6 [3.798 3.798 0.   ] Ti\n",
       " ----------\n",
       " 14 [3.798 3.798 1.899] O\n",
       " 15 [3.798 3.798 5.697] O\n",
       " 18 [1.899 3.798 0.   ] F\n",
       " 22 [5.697 3.798 0.   ] F\n",
       " 28 [3.798 1.899 0.   ] F\n",
       " 30 [3.798 5.697 0.   ] F, Coordination Polyhedron Ti\n",
       " 7 [3.798 3.798 3.798] Ti\n",
       " ----------\n",
       " 14 [3.798 3.798 1.899] O\n",
       " 15 [3.798 3.798 5.697] O\n",
       " 19 [1.899 3.798 3.798] F\n",
       " 23 [5.697 3.798 3.798] F\n",
       " 29 [3.798 1.899 3.798] F\n",
       " 31 [3.798 5.697 3.798] F]"
      ]
     },
     "execution_count": 21,
     "metadata": {},
     "output_type": "execute_result"
    }
   ],
   "source": [
    "config.polyhedra"
   ]
  },
  {
   "cell_type": "markdown",
   "metadata": {},
   "source": [
    "An alternative way to construct a `PolyhedraRecipe` is to pass a list of integer site indices to select specific atoms."
   ]
  },
  {
   "cell_type": "code",
   "execution_count": 17,
   "metadata": {},
   "outputs": [
    {
     "name": "stdout",
     "output_type": "stream",
     "text": [
      "(0, 1, 2, 3, 4, 5, 6, 7)\n",
      "(8, 9, 10, 11, 12, 13, 14, 15, 16, 17, 18, 19, 20, 21, 22, 23, 24, 25, 26, 27, 28, 29, 30, 31)\n"
     ]
    }
   ],
   "source": [
    "ti_indices = structure.indices_from_symbol('Ti')\n",
    "print( ti_indices )\n",
    "of_indices = structure.indices_from_symbol('O') + structure.indices_from_symbol('F')\n",
    "print( of_indices )"
   ]
  },
  {
   "cell_type": "code",
   "execution_count": 18,
   "metadata": {},
   "outputs": [
    {
     "data": {
      "text/plain": [
       "[Coordination Polyhedron Ti\n",
       " 0 [0. 0. 0.] Ti\n",
       " ----------\n",
       " 8 [0.    0.    1.899] O\n",
       " 9 [0.    0.    5.697] O\n",
       " 16 [1.899 0.    0.   ] F\n",
       " 20 [5.697 0.    0.   ] F\n",
       " 24 [0.    1.899 0.   ] F\n",
       " 26 [0.    5.697 0.   ] F, Coordination Polyhedron Ti\n",
       " 1 [0.    0.    3.798] Ti\n",
       " ----------\n",
       " 8 [0.    0.    1.899] O\n",
       " 9 [0.    0.    5.697] O\n",
       " 17 [1.899 0.    3.798] F\n",
       " 21 [5.697 0.    3.798] F\n",
       " 25 [0.    1.899 3.798] F\n",
       " 27 [0.    5.697 3.798] F, Coordination Polyhedron Ti\n",
       " 2 [0.    3.798 0.   ] Ti\n",
       " ----------\n",
       " 10 [0.    3.798 1.899] O\n",
       " 11 [0.    3.798 5.697] O\n",
       " 18 [1.899 3.798 0.   ] F\n",
       " 22 [5.697 3.798 0.   ] F\n",
       " 24 [0.    1.899 0.   ] F\n",
       " 26 [0.    5.697 0.   ] F, Coordination Polyhedron Ti\n",
       " 3 [0.    3.798 3.798] Ti\n",
       " ----------\n",
       " 10 [0.    3.798 1.899] O\n",
       " 11 [0.    3.798 5.697] O\n",
       " 19 [1.899 3.798 3.798] F\n",
       " 23 [5.697 3.798 3.798] F\n",
       " 25 [0.    1.899 3.798] F\n",
       " 27 [0.    5.697 3.798] F, Coordination Polyhedron Ti\n",
       " 4 [3.798 0.    0.   ] Ti\n",
       " ----------\n",
       " 12 [3.798 0.    1.899] O\n",
       " 13 [3.798 0.    5.697] O\n",
       " 16 [1.899 0.    0.   ] F\n",
       " 20 [5.697 0.    0.   ] F\n",
       " 28 [3.798 1.899 0.   ] F\n",
       " 30 [3.798 5.697 0.   ] F, Coordination Polyhedron Ti\n",
       " 5 [3.798 0.    3.798] Ti\n",
       " ----------\n",
       " 12 [3.798 0.    1.899] O\n",
       " 13 [3.798 0.    5.697] O\n",
       " 17 [1.899 0.    3.798] F\n",
       " 21 [5.697 0.    3.798] F\n",
       " 29 [3.798 1.899 3.798] F\n",
       " 31 [3.798 5.697 3.798] F, Coordination Polyhedron Ti\n",
       " 6 [3.798 3.798 0.   ] Ti\n",
       " ----------\n",
       " 14 [3.798 3.798 1.899] O\n",
       " 15 [3.798 3.798 5.697] O\n",
       " 18 [1.899 3.798 0.   ] F\n",
       " 22 [5.697 3.798 0.   ] F\n",
       " 28 [3.798 1.899 0.   ] F\n",
       " 30 [3.798 5.697 0.   ] F, Coordination Polyhedron Ti\n",
       " 7 [3.798 3.798 3.798] Ti\n",
       " ----------\n",
       " 14 [3.798 3.798 1.899] O\n",
       " 15 [3.798 3.798 5.697] O\n",
       " 19 [1.899 3.798 3.798] F\n",
       " 23 [5.697 3.798 3.798] F\n",
       " 29 [3.798 1.899 3.798] F\n",
       " 31 [3.798 5.697 3.798] F]"
      ]
     },
     "execution_count": 18,
     "metadata": {},
     "output_type": "execute_result"
    }
   ],
   "source": [
    "from polyhedral_analysis.polyhedra_recipe import PolyhedraRecipe\n",
    "recipe = PolyhedraRecipe( method='distance cutoff', \n",
    "                          coordination_cutoff=3.0, \n",
    "                          central_atoms=ti_indices,\n",
    "                          vertex_atoms=of_indices)\n",
    "\n",
    "config = Configuration( structure=structure, recipes=[recipe] )\n",
    "config.polyhedra"
   ]
  },
  {
   "cell_type": "markdown",
   "metadata": {},
   "source": [
    "A third method to construct a `PolyhedraRecipe` is to pass a generator functions that accept a `Structure` object, and return the indices."
   ]
  },
  {
   "cell_type": "code",
   "execution_count": 8,
   "metadata": {},
   "outputs": [
    {
     "data": {
      "text/plain": [
       "[Coordination Polyhedron Ti\n",
       " 0 [0. 0. 0.] Ti\n",
       " ----------\n",
       " 8 [0.    0.    1.899] O\n",
       " 9 [0.    0.    5.697] O\n",
       " 16 [1.899 0.    0.   ] F\n",
       " 20 [5.697 0.    0.   ] F\n",
       " 24 [0.    1.899 0.   ] F\n",
       " 26 [0.    5.697 0.   ] F, Coordination Polyhedron Ti\n",
       " 1 [0.    0.    3.798] Ti\n",
       " ----------\n",
       " 8 [0.    0.    1.899] O\n",
       " 9 [0.    0.    5.697] O\n",
       " 17 [1.899 0.    3.798] F\n",
       " 21 [5.697 0.    3.798] F\n",
       " 25 [0.    1.899 3.798] F\n",
       " 27 [0.    5.697 3.798] F, Coordination Polyhedron Ti\n",
       " 2 [0.    3.798 0.   ] Ti\n",
       " ----------\n",
       " 10 [0.    3.798 1.899] O\n",
       " 11 [0.    3.798 5.697] O\n",
       " 18 [1.899 3.798 0.   ] F\n",
       " 22 [5.697 3.798 0.   ] F\n",
       " 24 [0.    1.899 0.   ] F\n",
       " 26 [0.    5.697 0.   ] F, Coordination Polyhedron Ti\n",
       " 3 [0.    3.798 3.798] Ti\n",
       " ----------\n",
       " 10 [0.    3.798 1.899] O\n",
       " 11 [0.    3.798 5.697] O\n",
       " 19 [1.899 3.798 3.798] F\n",
       " 23 [5.697 3.798 3.798] F\n",
       " 25 [0.    1.899 3.798] F\n",
       " 27 [0.    5.697 3.798] F, Coordination Polyhedron Ti\n",
       " 4 [3.798 0.    0.   ] Ti\n",
       " ----------\n",
       " 12 [3.798 0.    1.899] O\n",
       " 13 [3.798 0.    5.697] O\n",
       " 16 [1.899 0.    0.   ] F\n",
       " 20 [5.697 0.    0.   ] F\n",
       " 28 [3.798 1.899 0.   ] F\n",
       " 30 [3.798 5.697 0.   ] F, Coordination Polyhedron Ti\n",
       " 5 [3.798 0.    3.798] Ti\n",
       " ----------\n",
       " 12 [3.798 0.    1.899] O\n",
       " 13 [3.798 0.    5.697] O\n",
       " 17 [1.899 0.    3.798] F\n",
       " 21 [5.697 0.    3.798] F\n",
       " 29 [3.798 1.899 3.798] F\n",
       " 31 [3.798 5.697 3.798] F, Coordination Polyhedron Ti\n",
       " 6 [3.798 3.798 0.   ] Ti\n",
       " ----------\n",
       " 14 [3.798 3.798 1.899] O\n",
       " 15 [3.798 3.798 5.697] O\n",
       " 18 [1.899 3.798 0.   ] F\n",
       " 22 [5.697 3.798 0.   ] F\n",
       " 28 [3.798 1.899 0.   ] F\n",
       " 30 [3.798 5.697 0.   ] F, Coordination Polyhedron Ti\n",
       " 7 [3.798 3.798 3.798] Ti\n",
       " ----------\n",
       " 14 [3.798 3.798 1.899] O\n",
       " 15 [3.798 3.798 5.697] O\n",
       " 19 [1.899 3.798 3.798] F\n",
       " 23 [5.697 3.798 3.798] F\n",
       " 29 [3.798 1.899 3.798] F\n",
       " 31 [3.798 5.697 3.798] F]"
      ]
     },
     "execution_count": 8,
     "metadata": {},
     "output_type": "execute_result"
    }
   ],
   "source": [
    "calg = lambda s: s.indices_from_symbol('Ti')\n",
    "valg = lambda s: s.indices_from_symbol('O') + s.indices_from_symbol('F')\n",
    "\n",
    "from polyhedral_analysis.polyhedra_recipe import PolyhedraRecipe\n",
    "recipe = PolyhedraRecipe( method='distance cutoff', \n",
    "                          coordination_cutoff=3.0, \n",
    "                          central_atoms=calg,\n",
    "                          vertex_atoms=valg)\n",
    "\n",
    "config = Configuration( structure=structure, recipes=[recipe] )\n",
    "config.polyhedra"
   ]
  }
 ],
 "metadata": {
  "kernelspec": {
   "display_name": "Python 3",
   "language": "python",
   "name": "python3"
  },
  "language_info": {
   "codemirror_mode": {
    "name": "ipython",
    "version": 3
   },
   "file_extension": ".py",
   "mimetype": "text/x-python",
   "name": "python",
   "nbconvert_exporter": "python",
   "pygments_lexer": "ipython3",
   "version": "3.7.0"
  }
 },
 "nbformat": 4,
 "nbformat_minor": 2
}
